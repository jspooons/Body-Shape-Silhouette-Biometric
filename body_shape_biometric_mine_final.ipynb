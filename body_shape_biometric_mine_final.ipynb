{
 "cells": [
  {
   "cell_type": "markdown",
   "id": "de38dafc",
   "metadata": {},
   "source": [
    "# 1) Imports"
   ]
  },
  {
   "cell_type": "code",
   "execution_count": 1,
   "id": "6764fd8a",
   "metadata": {},
   "outputs": [
    {
     "name": "stderr",
     "output_type": "stream",
     "text": [
      "Matplotlib is building the font cache; this may take a moment.\n"
     ]
    }
   ],
   "source": [
    "%matplotlib inline\n",
    "import numpy as np\n",
    "import matplotlib.pyplot as plt\n",
    "import pandas as pd"
   ]
  },
  {
   "cell_type": "code",
   "execution_count": 2,
   "id": "ae7903ce",
   "metadata": {},
   "outputs": [],
   "source": [
    "from PIL import Image\n",
    "from sklearn.preprocessing import Normalizer\n",
    "import os\n",
    "import glob\n",
    "import cv2"
   ]
  },
  {
   "cell_type": "markdown",
   "id": "e0626011",
   "metadata": {},
   "source": [
    "# 2) Data Loading"
   ]
  },
  {
   "cell_type": "code",
   "execution_count": 3,
   "id": "a5db0bd1",
   "metadata": {},
   "outputs": [],
   "source": [
    "def load_data(path):\n",
    "    files = glob.glob(path)\n",
    "    \n",
    "    col_images = []\n",
    "    gray_images = []\n",
    "    labels = []\n",
    "    \n",
    "    for file in files:\n",
    "        data_path = os.path.join(file, '*g')\n",
    "        subject = glob.glob(data_path)\n",
    "        label = os.path.basename(file)\n",
    "        \n",
    "        \n",
    "    \n",
    "        for data in subject:\n",
    "            labels.append(label)\n",
    "            img = cv2.imread(data)\n",
    "            crop_img = img[300:1530, 750:1500]\n",
    "            img = cv2.cvtColor(crop_img, cv2.COLOR_BGR2RGB)\n",
    "            gray = cv2.cvtColor(crop_img, cv2.COLOR_BGR2GRAY)\n",
    "            col_images.append(img)\n",
    "            gray_images.append(gray)\n",
    "        \n",
    "    return col_images, gray_images, labels"
   ]
  },
  {
   "cell_type": "code",
   "execution_count": 4,
   "id": "9b64108d",
   "metadata": {},
   "outputs": [],
   "source": [
    "train_path = 'biometrics/train/*'\n",
    "test_path = 'biometrics/test/*'\n",
    "\n",
    "train_col, train_data, train_labels = load_data(train_path)\n",
    "test_col, test_data, test_labels = load_data(test_path)"
   ]
  },
  {
   "cell_type": "markdown",
   "id": "c22976d7",
   "metadata": {},
   "source": [
    "# 4) Pre-processing"
   ]
  },
  {
   "cell_type": "markdown",
   "id": "d3d311c2",
   "metadata": {},
   "source": [
    "### 4.1) Data Preparation"
   ]
  },
  {
   "cell_type": "code",
   "execution_count": 5,
   "id": "74073573",
   "metadata": {},
   "outputs": [],
   "source": [
    "def create_templates(datum):\n",
    "    background = cv2.imread('background.jpg')\n",
    "    crop_bg = background[300:1530, 750:1500]\n",
    "    \n",
    "    bg = cv2.cvtColor(crop_bg, cv2.COLOR_RGB2LAB)\n",
    "    _, thr = cv2.threshold(bg,90,255,cv2.THRESH_BINARY)\n",
    "    bg = cv2.cvtColor(thr, cv2.COLOR_LAB2RGB)\n",
    "    bg = cv2.cvtColor(bg, cv2.COLOR_RGB2GRAY)\n",
    "    _, thr_bg = cv2.threshold(bg,120,255,cv2.THRESH_BINARY)\n",
    "    \n",
    "    template_top_treadmill = thr_bg[690:1100, 55:145]\n",
    "    \n",
    "    return template_top_treadmill#, template_marker"
   ]
  },
  {
   "cell_type": "code",
   "execution_count": 6,
   "id": "52c0c55c",
   "metadata": {},
   "outputs": [],
   "source": [
    "def remove_treadmill(template, datum):\n",
    "    result = cv2.matchTemplate(datum, template, cv2.TM_CCOEFF_NORMED)\n",
    "    (minVal, maxVal, minLoc, maxLoc) = cv2.minMaxLoc(result)\n",
    "\n",
    "    (startX, startY) = maxLoc\n",
    "    endX = startX + template.shape[1]\n",
    "    endY = startY + template.shape[0]\n",
    "\n",
    "    for y in range(startY, datum.shape[0]):\n",
    "        for x in range(0, endX):\n",
    "            datum[y,x] = 255\n",
    "    for y in range(540, datum.shape[0]):\n",
    "        for x in range(0, 180):\n",
    "            datum[y,x] = 255\n",
    "            \n",
    "    return datum"
   ]
  },
  {
   "cell_type": "code",
   "execution_count": 7,
   "id": "0ffdc0dd",
   "metadata": {},
   "outputs": [],
   "source": [
    "def preprocess(data, data_col, TRAIN=True):\n",
    "    template_top_treadmill = []\n",
    "    #template_marker = []\n",
    "    \n",
    "    data1 = data.copy()\n",
    "    \n",
    "    for i, datum, col_img in zip(range(len(data1)), data1, data_col):\n",
    "        \n",
    "        img = cv2.cvtColor(col_img, cv2.COLOR_RGB2LAB)\n",
    "        _, thr = cv2.threshold(img,90,255,cv2.THRESH_BINARY)\n",
    "        img = cv2.cvtColor(thr, cv2.COLOR_LAB2RGB)\n",
    "        img = cv2.cvtColor(img, cv2.COLOR_RGB2GRAY)\n",
    "        _, thr = cv2.threshold(img,120,255,cv2.THRESH_BINARY)\n",
    "        \n",
    "        if i == 0:\n",
    "            template_top_treadmill = create_templates(thr)\n",
    "        \n",
    "        tmp = remove_treadmill(template_top_treadmill, thr)\n",
    "        \n",
    "        data1[i] = tmp\n",
    "        \n",
    "    return data1"
   ]
  },
  {
   "cell_type": "code",
   "execution_count": 8,
   "id": "3ef3aec3",
   "metadata": {
    "scrolled": true
   },
   "outputs": [],
   "source": [
    "train_data_pr = preprocess(train_data, train_col)\n",
    "test_data_pr = preprocess(test_data, test_col, False)"
   ]
  },
  {
   "cell_type": "markdown",
   "id": "175e51dc",
   "metadata": {},
   "source": [
    "### 4.2) Feature Extraction"
   ]
  },
  {
   "cell_type": "code",
   "execution_count": 9,
   "id": "d2570e78",
   "metadata": {},
   "outputs": [],
   "source": [
    "def find_center(contours):\n",
    "    cont_lens = [len(i) for i in contours]\n",
    "    index = np.argmax(cont_lens)\n",
    "    \n",
    "    M = cv2.moments(contours[index])\n",
    "    if M['m00'] != 0:\n",
    "        cx = int(M['m10']/M['m00'])\n",
    "        cy = int(M['m01']/M['m00'])\n",
    "    \n",
    "    return [cx, cy]"
   ]
  },
  {
   "cell_type": "code",
   "execution_count": 10,
   "id": "fd681f66",
   "metadata": {},
   "outputs": [],
   "source": [
    "def generate_contours(data):\n",
    "    data_contours = [0 for i in range(len(data))]\n",
    "    centers = [0 for i in range(len(data))]\n",
    "    l = len(data)\n",
    "    \n",
    "    for j, datum in zip(range(l), data):\n",
    "        blurred = cv2.medianBlur(datum,17)\n",
    "        pad = cv2.copyMakeBorder(blurred,0,10,0,0,cv2.BORDER_CONSTANT,value=(255,255,255))\n",
    "        edged = cv2.Canny(pad, 0, 255)\n",
    "        \n",
    "        contours, _ = cv2.findContours(edged, cv2.RETR_EXTERNAL, cv2.CHAIN_APPROX_NONE)\n",
    "        #contours_sorted = sorted(contours, key=cv2.contourArea)\n",
    "        #cont_lens = [len(i) for i in contours]\n",
    "        #index = np.argmax(cont_lens)\n",
    "        \n",
    "        \n",
    "        combined_contours = np.array([[0,0]]) #np.array(np.squeeze(contours[index]))\n",
    "        minLen = 500\n",
    "        for i in contours: \n",
    "            i_len = np.shape(i)[0]\n",
    "            if i_len > minLen :\n",
    "                combined_contours = np.concatenate((combined_contours, np.squeeze(i)), axis=0)\n",
    "        \n",
    "        combined_contours = combined_contours[1:]\n",
    "        data_contours[j] = combined_contours\n",
    "        #print(np.shape(data_contours[j]))\n",
    "        centers[j] = find_center(contours)\n",
    "        \n",
    "        #data_contours[j] = remove_zeros(data_contours[j])\n",
    "        \n",
    "    return data_contours, centers"
   ]
  },
  {
   "cell_type": "code",
   "execution_count": 11,
   "id": "a9fb9c80",
   "metadata": {},
   "outputs": [],
   "source": [
    "def unwrap_silhouette(datum, datum_contours, center, image):\n",
    "    unwrap = np.array([])\n",
    "    for point in datum_contours:\n",
    "        \n",
    "        unwrap = np.append(unwrap, np.linalg.norm(center - point))\n",
    "        \n",
    "        \n",
    "    unwrap_norm = (unwrap - unwrap.min()) / (unwrap.max() - unwrap.min())\n",
    "    #print(pd.DataFrame(unwrap).isnull().values.any())\n",
    "    return down_sample(unwrap), unwrap"
   ]
  },
  {
   "cell_type": "code",
   "execution_count": 12,
   "id": "582d858a",
   "metadata": {},
   "outputs": [],
   "source": [
    "def down_sample(unwrap_norm, NUM_SAMPLES = 2000):\n",
    "    num_points = unwrap_norm.size\n",
    "\n",
    "    splitter = np.linspace(0, len(unwrap_norm), num=NUM_SAMPLES+1, dtype=int)\n",
    "    downsampled = np.split(unwrap_norm, splitter[1:])\n",
    "    final = np.array(list(np.mean(item) for item in downsampled[:-1]))\n",
    "    \n",
    "    return final"
   ]
  },
  {
   "cell_type": "code",
   "execution_count": 13,
   "id": "3eb20be0",
   "metadata": {},
   "outputs": [],
   "source": [
    "def get_features(data, contours_set, centers, data_col):\n",
    "    dataset = [[] for i in range(len(data))]\n",
    "    dataset_ds = [[] for i in range(len(data))] \n",
    "    \n",
    "    for i, image, datum, contours, center in zip(range(len(data)), data_col, data, contours_set, centers):\n",
    "        \n",
    "        dataset_ds[i], dataset[i] = unwrap_silhouette(datum, contours, center, image)\n",
    "        \n",
    "    return dataset, dataset_ds"
   ]
  },
  {
   "cell_type": "code",
   "execution_count": 14,
   "id": "875834e0",
   "metadata": {},
   "outputs": [],
   "source": [
    "train_contours, train_centers = generate_contours(train_data_pr)\n",
    "test_contours, test_centers = generate_contours(test_data_pr)"
   ]
  },
  {
   "cell_type": "code",
   "execution_count": 15,
   "id": "49702f32",
   "metadata": {},
   "outputs": [],
   "source": [
    "not_down_sampled_train, train_features = get_features(train_data_pr, train_contours, train_centers, train_col)\n",
    "not_down_samples_test, test_features = get_features(test_data_pr, test_contours, test_centers, test_col)"
   ]
  },
  {
   "cell_type": "code",
   "execution_count": 16,
   "id": "d5d12665",
   "metadata": {},
   "outputs": [],
   "source": [
    "normalizer = Normalizer().fit(train_features) \n",
    "train_features = normalizer.transform(train_features)\n",
    "test_features = normalizer.transform(test_features)"
   ]
  },
  {
   "cell_type": "code",
   "execution_count": 17,
   "id": "805954d5",
   "metadata": {},
   "outputs": [
    {
     "data": {
      "text/plain": [
       "[<matplotlib.lines.Line2D at 0x1dd70969550>]"
      ]
     },
     "execution_count": 17,
     "metadata": {},
     "output_type": "execute_result"
    },
    {
     "data": {
      "image/png": "[encoded data removed]",
      "text/plain": [
       "<Figure size 432x288 with 1 Axes>"
      ]
     },
     "metadata": {
      "needs_background": "light"
     },
     "output_type": "display_data"
    }
   ],
   "source": [
    "plt.plot(train_features[68])"
   ]
  },
  {
   "cell_type": "code",
   "execution_count": 18,
   "id": "f2965d4e",
   "metadata": {},
   "outputs": [
    {
     "data": {
      "text/plain": [
       "[<matplotlib.lines.Line2D at 0x1dd76545fd0>]"
      ]
     },
     "execution_count": 18,
     "metadata": {},
     "output_type": "execute_result"
    },
    {
     "data": {
      "image/png": "[encoded data removed]",
      "text/plain": [
       "<Figure size 432x288 with 1 Axes>"
      ]
     },
     "metadata": {
      "needs_background": "light"
     },
     "output_type": "display_data"
    }
   ],
   "source": [
    "plt.plot(train_features[69])"
   ]
  },
  {
   "cell_type": "markdown",
   "id": "11444e0d",
   "metadata": {},
   "source": [
    "# 5) Histogram of Distances"
   ]
  },
  {
   "cell_type": "code",
   "execution_count": 19,
   "id": "2c7db909",
   "metadata": {},
   "outputs": [],
   "source": [
    "train_front = []\n",
    "train_side = []\n",
    "test_front = []\n",
    "test_side = []\n",
    "\n",
    "train_front_labels = []\n",
    "test_front_labels = []\n",
    "train_side_labels = []\n",
    "test_side_labels = []\n",
    "\n",
    "# Generating front and side profile datasets\n",
    "for i in range(len(train_features)):\n",
    "        if i%2==0:\n",
    "            train_front.append(train_features[i])\n",
    "            train_front_labels.append(train_labels[i])\n",
    "        else:\n",
    "            train_side.append(train_features[i])\n",
    "            train_side_labels.append(train_labels[i])\n",
    "            \n",
    "for i in range(len(test_features)):\n",
    "        if i%2==0:\n",
    "            test_side.append(test_features[i])\n",
    "            test_side_labels.append(test_labels[i])\n",
    "        else:\n",
    "            test_front.append(test_features[i])\n",
    "            test_front_labels.append(test_labels[i])"
   ]
  },
  {
   "cell_type": "code",
   "execution_count": 20,
   "id": "a908e37e",
   "metadata": {},
   "outputs": [],
   "source": [
    "# Creating dataframes for use in SVM and filling in any NaN values by using average of element \n",
    "# before and after the NaN value\n",
    "\n",
    "train_final = pd.DataFrame(train_features)\n",
    "train_final = (train_final.ffill()+train_final.bfill())/2\n",
    "\n",
    "test_final = pd.DataFrame(test_features)\n",
    "test_final = (test_final.ffill()+test_final.bfill())/2\n",
    "\n",
    "train_final_side = pd.DataFrame(train_side)\n",
    "train_final_side = (train_final_side.ffill()+train_final_side.bfill())/2\n",
    "\n",
    "train_final_front = pd.DataFrame(train_front)\n",
    "train_final_front = (train_final_front.ffill()+train_final_front.bfill())/2\n",
    "\n",
    "test_final_side = pd.DataFrame(test_side)\n",
    "test_final_side = (test_final_side.ffill()+test_final_side.bfill())/2\n",
    "\n",
    "test_final_front = pd.DataFrame(test_front)\n",
    "test_final_front = (test_final_front.ffill()+test_final_front.bfill())/2"
   ]
  },
  {
   "cell_type": "code",
   "execution_count": 21,
   "id": "c929fb53",
   "metadata": {},
   "outputs": [],
   "source": [
    "distances_side = []\n",
    "distances_front = []\n",
    "\n",
    "for i in range(len(train_features)):\n",
    "    for j in range(len(train_features)):\n",
    "        if i%2!=0 and j%2!=0:\n",
    "            distances_side.append(np.linalg.norm(train_features[i] - train_features[j]))\n",
    "        elif i%2==0 and j%2==0:\n",
    "            \n",
    "            distances_front.append(np.linalg.norm(train_features[i] - train_features[j]))"
   ]
  },
  {
   "cell_type": "code",
   "execution_count": 22,
   "id": "96ac7ba0",
   "metadata": {},
   "outputs": [
    {
     "data": {
      "text/plain": [
       "(array([344., 362., 166., 134., 168.,  16.,  30., 202., 436.,  78.]),\n",
       " array([0.        , 0.08391215, 0.1678243 , 0.25173645, 0.3356486 ,\n",
       "        0.41956076, 0.50347291, 0.58738506, 0.67129721, 0.75520936,\n",
       "        0.83912151]),\n",
       " <BarContainer object of 10 artists>)"
      ]
     },
     "execution_count": 22,
     "metadata": {},
     "output_type": "execute_result"
    },
    {
     "data": {
      "image/png": "[encoded data removed]",
      "text/plain": [
       "<Figure size 432x288 with 1 Axes>"
      ]
     },
     "metadata": {
      "needs_background": "light"
     },
     "output_type": "display_data"
    }
   ],
   "source": [
    "plt.hist(distances_front)"
   ]
  },
  {
   "cell_type": "code",
   "execution_count": 23,
   "id": "3a70b8ca",
   "metadata": {},
   "outputs": [
    {
     "data": {
      "text/plain": [
       "(array([ 50., 412., 630., 464., 194.,  86.,  30.,  48.,  14.,   8.]),\n",
       " array([0.        , 0.02120441, 0.04240881, 0.06361322, 0.08481762,\n",
       "        0.10602203, 0.12722643, 0.14843084, 0.16963524, 0.19083965,\n",
       "        0.21204406]),\n",
       " <BarContainer object of 10 artists>)"
      ]
     },
     "execution_count": 23,
     "metadata": {},
     "output_type": "execute_result"
    },
    {
     "data": {
      "image/png": "[encoded data removed]",
      "text/plain": [
       "<Figure size 432x288 with 1 Axes>"
      ]
     },
     "metadata": {
      "needs_background": "light"
     },
     "output_type": "display_data"
    }
   ],
   "source": [
    "plt.hist(distances_side)"
   ]
  },
  {
   "cell_type": "code",
   "execution_count": 24,
   "id": "fc079b76",
   "metadata": {},
   "outputs": [],
   "source": [
    "combined_distances = np.append(distances_front, distances_side)"
   ]
  },
  {
   "cell_type": "code",
   "execution_count": 25,
   "id": "fa03e154",
   "metadata": {},
   "outputs": [
    {
     "data": {
      "text/plain": [
       "(array([1888.,  728.,  192.,  134.,  168.,   16.,   30.,  202.,  436.,\n",
       "          78.]),\n",
       " array([0.        , 0.08391215, 0.1678243 , 0.25173645, 0.3356486 ,\n",
       "        0.41956076, 0.50347291, 0.58738506, 0.67129721, 0.75520936,\n",
       "        0.83912151]),\n",
       " <BarContainer object of 10 artists>)"
      ]
     },
     "execution_count": 25,
     "metadata": {},
     "output_type": "execute_result"
    },
    {
     "data": {
      "image/png": "[encoded data removed]",
      "text/plain": [
       "<Figure size 432x288 with 1 Axes>"
      ]
     },
     "metadata": {
      "needs_background": "light"
     },
     "output_type": "display_data"
    }
   ],
   "source": [
    "plt.hist(combined_distances)"
   ]
  },
  {
   "cell_type": "markdown",
   "id": "1ed503e1",
   "metadata": {},
   "source": [
    "# 6) Subject Recognition"
   ]
  },
  {
   "cell_type": "markdown",
   "id": "d9f962dc",
   "metadata": {},
   "source": [
    "### 6.1) SVM All Profiles"
   ]
  },
  {
   "cell_type": "code",
   "execution_count": 26,
   "id": "449f11a7",
   "metadata": {},
   "outputs": [
    {
     "data": {
      "text/plain": [
       "0.09090909090909091"
      ]
     },
     "execution_count": 26,
     "metadata": {},
     "output_type": "execute_result"
    }
   ],
   "source": [
    "from sklearn import svm\n",
    "from sklearn.metrics import accuracy_score\n",
    "\n",
    "lin_clf = svm.LinearSVC()\n",
    "lin_clf.fit(train_final, train_labels)\n",
    "pred = lin_clf.predict(test_final)\n",
    "\n",
    "accuracy_score(test_labels, pred)"
   ]
  },
  {
   "cell_type": "markdown",
   "id": "e284ff20",
   "metadata": {},
   "source": [
    "### 6.2) KNN All Profiles"
   ]
  },
  {
   "cell_type": "code",
   "execution_count": 27,
   "id": "ea2d6aa1",
   "metadata": {},
   "outputs": [
    {
     "data": {
      "text/plain": [
       "0.2727272727272727"
      ]
     },
     "execution_count": 27,
     "metadata": {},
     "output_type": "execute_result"
    }
   ],
   "source": [
    "predictions = []\n",
    "\n",
    "for i in range(len(test_final)):\n",
    "    distances = []\n",
    "    \n",
    "    for j in range(len(train_final)):\n",
    "        distances.append(np.linalg.norm(test_final.loc[i] - train_final.loc[j]))\n",
    "    \n",
    "    index_min = np.argmin(distances)\n",
    "    predictions.append(train_labels[index_min])\n",
    "    \n",
    "accuracy_score(test_labels, predictions)"
   ]
  },
  {
   "cell_type": "markdown",
   "id": "2503d44d",
   "metadata": {},
   "source": [
    "### 6.3) SVM Side Profiles"
   ]
  },
  {
   "cell_type": "code",
   "execution_count": 28,
   "id": "4b426395",
   "metadata": {},
   "outputs": [
    {
     "data": {
      "text/plain": [
       "0.36363636363636365"
      ]
     },
     "execution_count": 28,
     "metadata": {},
     "output_type": "execute_result"
    }
   ],
   "source": [
    "lin_clf = svm.LinearSVC()\n",
    "lin_clf.fit(train_final_side, train_side_labels)\n",
    "pred = lin_clf.predict(test_final_side)\n",
    "accuracy_score(test_side_labels, pred)"
   ]
  },
  {
   "cell_type": "markdown",
   "id": "2cacc6b3",
   "metadata": {},
   "source": [
    "### 6.4) KNN Side Profiles"
   ]
  },
  {
   "cell_type": "code",
   "execution_count": 29,
   "id": "53ed27e2",
   "metadata": {},
   "outputs": [
    {
     "data": {
      "text/plain": [
       "0.45454545454545453"
      ]
     },
     "execution_count": 29,
     "metadata": {},
     "output_type": "execute_result"
    }
   ],
   "source": [
    "predictions = []\n",
    "\n",
    "for i in range(len(test_final_side)):\n",
    "    distances = []\n",
    "    \n",
    "    for j in range(len(train_final_side)):\n",
    "        distances.append(np.linalg.norm(test_final_side.loc[i] - train_final_side.loc[j]))\n",
    "    \n",
    "    index_min = np.argmin(distances)\n",
    "    predictions.append(train_side_labels[index_min])\n",
    "    \n",
    "accuracy_score(test_side_labels, predictions)"
   ]
  },
  {
   "cell_type": "markdown",
   "id": "04c14b9b",
   "metadata": {},
   "source": [
    "### 6.5) SVM Front Profiles"
   ]
  },
  {
   "cell_type": "code",
   "execution_count": 30,
   "id": "db340eae",
   "metadata": {},
   "outputs": [
    {
     "data": {
      "text/plain": [
       "0.0"
      ]
     },
     "execution_count": 30,
     "metadata": {},
     "output_type": "execute_result"
    }
   ],
   "source": [
    "lin_clf = svm.LinearSVC()\n",
    "lin_clf.fit(train_final_front, train_front_labels)\n",
    "pred = lin_clf.predict(test_final_front)\n",
    "accuracy_score(test_front_labels, pred)"
   ]
  },
  {
   "cell_type": "markdown",
   "id": "2ede488a",
   "metadata": {},
   "source": [
    "### 6.6) KNN Front Profiles"
   ]
  },
  {
   "cell_type": "code",
   "execution_count": 31,
   "id": "0be96939",
   "metadata": {},
   "outputs": [
    {
     "data": {
      "text/plain": [
       "0.09090909090909091"
      ]
     },
     "execution_count": 31,
     "metadata": {},
     "output_type": "execute_result"
    }
   ],
   "source": [
    "predictions = []\n",
    "\n",
    "for i in range(len(test_final_front)):\n",
    "    distances = []\n",
    "    \n",
    "    for j in range(len(train_final_front)):\n",
    "        distances.append(np.linalg.norm(test_final_front.loc[i] - train_final_front.loc[j]))\n",
    "    \n",
    "    index_min = np.argmin(distances)\n",
    "    predictions.append(train_front_labels[index_min])\n",
    "    \n",
    "accuracy_score(test_front_labels, predictions)"
   ]
  },
  {
   "cell_type": "markdown",
   "id": "c91b4ffa",
   "metadata": {},
   "source": [
    "### 6.7) SVM x PCA All Profiles"
   ]
  },
  {
   "cell_type": "code",
   "execution_count": 32,
   "id": "7f22e96a",
   "metadata": {},
   "outputs": [
    {
     "data": {
      "text/plain": [
       "PCA(n_components=50)"
      ]
     },
     "execution_count": 32,
     "metadata": {},
     "output_type": "execute_result"
    }
   ],
   "source": [
    "from sklearn.decomposition import PCA\n",
    "\n",
    "pca = PCA(n_components=50)\n",
    "pca.fit(train_final)"
   ]
  },
  {
   "cell_type": "code",
   "execution_count": 33,
   "id": "0a4f3944",
   "metadata": {},
   "outputs": [],
   "source": [
    "train_pca = pca.transform(train_final)"
   ]
  },
  {
   "cell_type": "code",
   "execution_count": 34,
   "id": "88b08a32",
   "metadata": {},
   "outputs": [],
   "source": [
    "test_pca = pca.transform(test_final)"
   ]
  },
  {
   "cell_type": "code",
   "execution_count": 35,
   "id": "21d2b94f",
   "metadata": {},
   "outputs": [
    {
     "data": {
      "text/plain": [
       "[<matplotlib.lines.Line2D at 0x1dd789695b0>]"
      ]
     },
     "execution_count": 35,
     "metadata": {},
     "output_type": "execute_result"
    },
    {
     "data": {
      "image/png": "[encoded data removed]",
      "text/plain": [
       "<Figure size 432x288 with 1 Axes>"
      ]
     },
     "metadata": {
      "needs_background": "light"
     },
     "output_type": "display_data"
    }
   ],
   "source": [
    "plt.plot(train_pca[68])"
   ]
  },
  {
   "cell_type": "code",
   "execution_count": 36,
   "id": "dbe28582",
   "metadata": {},
   "outputs": [
    {
     "data": {
      "text/plain": [
       "0.09090909090909091"
      ]
     },
     "execution_count": 36,
     "metadata": {},
     "output_type": "execute_result"
    }
   ],
   "source": [
    "lin_clf = svm.LinearSVC()\n",
    "lin_clf.fit(train_pca, train_labels)\n",
    "pred = lin_clf.predict(test_pca)\n",
    "\n",
    "accuracy_score(test_labels, pred)"
   ]
  },
  {
   "cell_type": "markdown",
   "id": "7b9c96b8",
   "metadata": {},
   "source": [
    "### 6.8) KNN x PCA All Profiles"
   ]
  },
  {
   "cell_type": "code",
   "execution_count": 37,
   "id": "2964376b",
   "metadata": {},
   "outputs": [
    {
     "data": {
      "text/plain": [
       "0.2727272727272727"
      ]
     },
     "execution_count": 37,
     "metadata": {},
     "output_type": "execute_result"
    }
   ],
   "source": [
    "predictions = []\n",
    "\n",
    "for i in range(len(test_pca)):\n",
    "    distances = []\n",
    "    \n",
    "    for j in range(len(train_pca)):\n",
    "        distances.append(np.linalg.norm(test_pca[i] - train_pca[j]))\n",
    "    \n",
    "    index_min = np.argmin(distances)\n",
    "    predictions.append(train_labels[index_min])\n",
    "    \n",
    "accuracy_score(test_labels, predictions)"
   ]
  },
  {
   "cell_type": "markdown",
   "id": "df2b016f",
   "metadata": {},
   "source": [
    "# 7) Subject Verification"
   ]
  },
  {
   "cell_type": "code",
   "execution_count": 38,
   "id": "49d5c0e1",
   "metadata": {},
   "outputs": [],
   "source": [
    "threshold = 0\n",
    "fa_rates = []\n",
    "fr_rates = []\n",
    "thresholds = []\n",
    "\n",
    "# Test set contains individuals that are ALL in the training set, therefore False Acceptance Rate is always 0?\n",
    "\n",
    "for threshold in range(0, 75):\n",
    "    verifications = 0\n",
    "    fr_count = 0\n",
    "    fa_count = 0\n",
    "\n",
    "    for i in range(len(test_final)):\n",
    "        distances = []\n",
    "\n",
    "        for j in range(len(train_final)):\n",
    "            distances.append(np.linalg.norm(test_final.loc[i] - train_final.loc[j]))\n",
    "        \n",
    "        for k in range(len(distances)):\n",
    "            if distances[k] <= threshold * 0.005 and test_labels[i] != train_labels[k]:\n",
    "                fa_count += 1\n",
    "            elif distances[k] > threshold * 0.005 and test_labels[i] == train_labels[k]:\n",
    "                fr_count += 1\n",
    "                \n",
    "    fa_rates.append(fa_count / (21 * 88)) # for each verification against existing dataset, can falsely accept 21 imposters, \n",
    "    fr_rates.append(fr_count / (1 * 88)) # for each verification, can falsley reject the correct person once\n",
    "    thresholds.append(threshold * 0.005)\n",
    "    #print(fa_count)\n",
    "    #print(fr_count)\n",
    "    "
   ]
  },
  {
   "cell_type": "code",
   "execution_count": 137,
   "id": "6704187e",
   "metadata": {},
   "outputs": [
    {
     "data": {
      "image/png": "[encoded data removed]",
      "text/plain": [
       "<Figure size 432x288 with 1 Axes>"
      ]
     },
     "metadata": {
      "needs_background": "light"
     },
     "output_type": "display_data"
    },
    {
     "name": "stdout",
     "output_type": "stream",
     "text": [
      "x:  0.135  y:  0.3268398268398268\n"
     ]
    }
   ],
   "source": [
    "#plt.axis([0, 1, -0.05, 1])\n",
    "\n",
    "fig, ax = plt.subplots()\n",
    "\n",
    "idx = np.argwhere(np.diff(np.sign(np.array(fa_rates) - np.array(fr_rates)))).flatten()\n",
    "\n",
    "ax.plot(thresholds, fa_rates, label='FAR')\n",
    "ax.plot(thresholds, fr_rates, label='FRR')\n",
    "ax.plot(thresholds[idx[0]], fa_rates[idx[0]], 'ro', label='EER')\n",
    "\n",
    "plt.xlabel('Threshold')\n",
    "ax.legend(loc='upper left')\n",
    "\n",
    "plt.show()\n",
    "print('x: ', thresholds[idx[0]], ' y: ',fa_rates[idx[0]])"
   ]
  }
 ],
 "metadata": {
  "kernelspec": {
   "display_name": "Python 3 (ipykernel)",
   "language": "python",
   "name": "python3"
  },
  "language_info": {
   "codemirror_mode": {
    "name": "ipython",
    "version": 3
   },
   "file_extension": ".py",
   "mimetype": "text/x-python",
   "name": "python",
   "nbconvert_exporter": "python",
   "pygments_lexer": "ipython3",
   "version": "3.8.12"
  }
 },
 "nbformat": 4,
 "nbformat_minor": 5
}
